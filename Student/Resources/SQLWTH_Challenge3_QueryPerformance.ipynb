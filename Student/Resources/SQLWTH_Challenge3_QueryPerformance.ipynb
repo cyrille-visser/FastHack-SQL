{
    "metadata": {
        "kernelspec": {
            "name": "SQL",
            "display_name": "SQL",
            "language": "sql"
        },
        "language_info": {
            "name": "sql",
            "version": ""
        }
    },
    "nbformat_minor": 2,
    "nbformat": 4,
    "cells": [
        {
            "cell_type": "markdown",
            "source": [
                "# SQL Modernization What The Hack\n",
                "\n",
                "## Challenge 2 - Query Performance"
            ],
            "metadata": {
                "azdata_cell_guid": "965544a5-404a-4cc2-ac79-ff16115c7732"
            }
        },
        {
            "cell_type": "code",
            "source": [
                "SELECT InvoiceId, CustomerId, TotalChillerItems, TotalDryItems, ConfirmedDeliveryTime\r\n",
                "FROM Sales.Invoices\r\n",
                "WHERE ConfirmedDeliveryTime BETWEEN '2016-01-07 00:00:00.000' AND '2016-01-07 23:59:59.998'\r\n",
                "ORDER BY ConfirmedDeliveryTime DESC"
            ],
            "metadata": {
                "azdata_cell_guid": "1c862fcb-ef79-4188-b643-5c926e201425"
            },
            "outputs": [
                {
                    "output_type": "display_data",
                    "data": {
                        "text/html": "(117 rows affected)"
                    },
                    "metadata": {}
                },
                {
                    "output_type": "display_data",
                    "data": {
                        "text/html": "Total execution time: 00:00:00.039"
                    },
                    "metadata": {}
                },
                {
                    "output_type": "execute_result",
                    "metadata": {
                        "resultSet": {
                            "id": 0,
                            "batchId": 0,
                            "rowCount": 117,
                            "complete": true,
                            "columnInfo": [
                                {
                                    "isBytes": false,
                                    "isChars": false,
                                    "isSqlVariant": false,
                                    "isUdt": false,
                                    "isXml": false,
                                    "isJson": false,
                                    "sqlDbType": 8,
                                    "isHierarchyId": false,
                                    "isSqlXmlType": false,
                                    "isUnknownType": false,
                                    "isUpdatable": true,
                                    "allowDBNull": false,
                                    "baseCatalogName": null,
                                    "baseColumnName": null,
                                    "baseSchemaName": null,
                                    "baseServerName": null,
                                    "baseTableName": null,
                                    "columnName": "InvoiceId",
                                    "columnOrdinal": 0,
                                    "columnSize": 4,
                                    "isAliased": null,
                                    "isAutoIncrement": false,
                                    "isExpression": null,
                                    "isHidden": null,
                                    "isIdentity": false,
                                    "isKey": null,
                                    "isLong": false,
                                    "isReadOnly": false,
                                    "isUnique": false,
                                    "numericPrecision": 10,
                                    "numericScale": 255,
                                    "udtAssemblyQualifiedName": null,
                                    "dataType": "System.Int32, System.Private.CoreLib, Version=4.0.0.0, Culture=neutral, PublicKeyToken=7cec85d7bea7798e",
                                    "dataTypeName": "int"
                                },
                                {
                                    "isBytes": false,
                                    "isChars": false,
                                    "isSqlVariant": false,
                                    "isUdt": false,
                                    "isXml": false,
                                    "isJson": false,
                                    "sqlDbType": 8,
                                    "isHierarchyId": false,
                                    "isSqlXmlType": false,
                                    "isUnknownType": false,
                                    "isUpdatable": true,
                                    "allowDBNull": false,
                                    "baseCatalogName": null,
                                    "baseColumnName": null,
                                    "baseSchemaName": null,
                                    "baseServerName": null,
                                    "baseTableName": null,
                                    "columnName": "CustomerId",
                                    "columnOrdinal": 1,
                                    "columnSize": 4,
                                    "isAliased": null,
                                    "isAutoIncrement": false,
                                    "isExpression": null,
                                    "isHidden": null,
                                    "isIdentity": false,
                                    "isKey": null,
                                    "isLong": false,
                                    "isReadOnly": false,
                                    "isUnique": false,
                                    "numericPrecision": 10,
                                    "numericScale": 255,
                                    "udtAssemblyQualifiedName": null,
                                    "dataType": "System.Int32, System.Private.CoreLib, Version=4.0.0.0, Culture=neutral, PublicKeyToken=7cec85d7bea7798e",
                                    "dataTypeName": "int"
                                },
                                {
                                    "isBytes": false,
                                    "isChars": false,
                                    "isSqlVariant": false,
                                    "isUdt": false,
                                    "isXml": false,
                                    "isJson": false,
                                    "sqlDbType": 8,
                                    "isHierarchyId": false,
                                    "isSqlXmlType": false,
                                    "isUnknownType": false,
                                    "isUpdatable": true,
                                    "allowDBNull": false,
                                    "baseCatalogName": null,
                                    "baseColumnName": null,
                                    "baseSchemaName": null,
                                    "baseServerName": null,
                                    "baseTableName": null,
                                    "columnName": "TotalChillerItems",
                                    "columnOrdinal": 2,
                                    "columnSize": 4,
                                    "isAliased": null,
                                    "isAutoIncrement": false,
                                    "isExpression": null,
                                    "isHidden": null,
                                    "isIdentity": false,
                                    "isKey": null,
                                    "isLong": false,
                                    "isReadOnly": false,
                                    "isUnique": false,
                                    "numericPrecision": 10,
                                    "numericScale": 255,
                                    "udtAssemblyQualifiedName": null,
                                    "dataType": "System.Int32, System.Private.CoreLib, Version=4.0.0.0, Culture=neutral, PublicKeyToken=7cec85d7bea7798e",
                                    "dataTypeName": "int"
                                },
                                {
                                    "isBytes": false,
                                    "isChars": false,
                                    "isSqlVariant": false,
                                    "isUdt": false,
                                    "isXml": false,
                                    "isJson": false,
                                    "sqlDbType": 8,
                                    "isHierarchyId": false,
                                    "isSqlXmlType": false,
                                    "isUnknownType": false,
                                    "isUpdatable": true,
                                    "allowDBNull": false,
                                    "baseCatalogName": null,
                                    "baseColumnName": null,
                                    "baseSchemaName": null,
                                    "baseServerName": null,
                                    "baseTableName": null,
                                    "columnName": "TotalDryItems",
                                    "columnOrdinal": 3,
                                    "columnSize": 4,
                                    "isAliased": null,
                                    "isAutoIncrement": false,
                                    "isExpression": null,
                                    "isHidden": null,
                                    "isIdentity": false,
                                    "isKey": null,
                                    "isLong": false,
                                    "isReadOnly": false,
                                    "isUnique": false,
                                    "numericPrecision": 10,
                                    "numericScale": 255,
                                    "udtAssemblyQualifiedName": null,
                                    "dataType": "System.Int32, System.Private.CoreLib, Version=4.0.0.0, Culture=neutral, PublicKeyToken=7cec85d7bea7798e",
                                    "dataTypeName": "int"
                                },
                                {
                                    "isBytes": false,
                                    "isChars": false,
                                    "isSqlVariant": false,
                                    "isUdt": false,
                                    "isXml": false,
                                    "isJson": false,
                                    "sqlDbType": 33,
                                    "isHierarchyId": false,
                                    "isSqlXmlType": false,
                                    "isUnknownType": false,
                                    "isUpdatable": false,
                                    "allowDBNull": true,
                                    "baseCatalogName": null,
                                    "baseColumnName": null,
                                    "baseSchemaName": null,
                                    "baseServerName": null,
                                    "baseTableName": null,
                                    "columnName": "ConfirmedDeliveryTime",
                                    "columnOrdinal": 4,
                                    "columnSize": 8,
                                    "isAliased": null,
                                    "isAutoIncrement": false,
                                    "isExpression": null,
                                    "isHidden": null,
                                    "isIdentity": false,
                                    "isKey": null,
                                    "isLong": false,
                                    "isReadOnly": true,
                                    "isUnique": false,
                                    "numericPrecision": 255,
                                    "numericScale": 7,
                                    "udtAssemblyQualifiedName": null,
                                    "dataType": "System.DateTime, System.Private.CoreLib, Version=4.0.0.0, Culture=neutral, PublicKeyToken=7cec85d7bea7798e",
                                    "dataTypeName": "datetime2"
                                }
                            ],
                            "specialAction": {
                                "none": true,
                                "expectYukonXMLShowPlan": false
                            }
                        }
                    },
                    "execution_count": 10,
                    "data": {
                        "application/vnd.dataresource+json": {
                            "schema": {
                                "fields": [
                                    {
                                        "name": "InvoiceId"
                                    },
                                    {
                                        "name": "CustomerId"
                                    },
                                    {
                                        "name": "TotalChillerItems"
                                    },
                                    {
                                        "name": "TotalDryItems"
                                    },
                                    {
                                        "name": "ConfirmedDeliveryTime"
                                    }
                                ]
                            },
                            "data": [
                                {
                                    "0": "61719",
                                    "1": "122",
                                    "2": "0",
                                    "3": "3",
                                    "4": "2016-01-07 16:45:00.0000000"
                                },
                                {
                                    "0": "61718",
                                    "1": "199",
                                    "2": "0",
                                    "3": "3",
                                    "4": "2016-01-07 16:40:00.0000000"
                                },
                                {
                                    "0": "61717",
                                    "1": "104",
                                    "2": "0",
                                    "3": "4",
                                    "4": "2016-01-07 16:35:00.0000000"
                                },
                                {
                                    "0": "61716",
                                    "1": "115",
                                    "2": "0",
                                    "3": "3",
                                    "4": "2016-01-07 16:30:00.0000000"
                                },
                                {
                                    "0": "61715",
                                    "1": "991",
                                    "2": "0",
                                    "3": "2",
                                    "4": "2016-01-07 16:25:00.0000000"
                                },
                                {
                                    "0": "61714",
                                    "1": "10",
                                    "2": "0",
                                    "3": "3",
                                    "4": "2016-01-07 16:20:00.0000000"
                                },
                                {
                                    "0": "61713",
                                    "1": "985",
                                    "2": "0",
                                    "3": "4",
                                    "4": "2016-01-07 16:15:00.0000000"
                                },
                                {
                                    "0": "61712",
                                    "1": "878",
                                    "2": "0",
                                    "3": "3",
                                    "4": "2016-01-07 16:10:00.0000000"
                                },
                                {
                                    "0": "61711",
                                    "1": "100",
                                    "2": "0",
                                    "3": "3",
                                    "4": "2016-01-07 16:05:00.0000000"
                                },
                                {
                                    "0": "61710",
                                    "1": "63",
                                    "2": "0",
                                    "3": "5",
                                    "4": "2016-01-07 16:00:00.0000000"
                                },
                                {
                                    "0": "61709",
                                    "1": "504",
                                    "2": "0",
                                    "3": "2",
                                    "4": "2016-01-07 15:55:00.0000000"
                                },
                                {
                                    "0": "61708",
                                    "1": "1055",
                                    "2": "0",
                                    "3": "3",
                                    "4": "2016-01-07 15:50:00.0000000"
                                },
                                {
                                    "0": "61707",
                                    "1": "49",
                                    "2": "0",
                                    "3": "3",
                                    "4": "2016-01-07 15:45:00.0000000"
                                },
                                {
                                    "0": "61706",
                                    "1": "144",
                                    "2": "0",
                                    "3": "3",
                                    "4": "2016-01-07 15:40:00.0000000"
                                },
                                {
                                    "0": "61705",
                                    "1": "199",
                                    "2": "0",
                                    "3": "3",
                                    "4": "2016-01-07 15:35:00.0000000"
                                },
                                {
                                    "0": "61704",
                                    "1": "831",
                                    "2": "1",
                                    "3": "4",
                                    "4": "2016-01-07 15:30:00.0000000"
                                },
                                {
                                    "0": "61703",
                                    "1": "134",
                                    "2": "0",
                                    "3": "4",
                                    "4": "2016-01-07 15:25:00.0000000"
                                },
                                {
                                    "0": "61702",
                                    "1": "921",
                                    "2": "0",
                                    "3": "2",
                                    "4": "2016-01-07 15:20:00.0000000"
                                },
                                {
                                    "0": "61701",
                                    "1": "433",
                                    "2": "0",
                                    "3": "4",
                                    "4": "2016-01-07 15:15:00.0000000"
                                },
                                {
                                    "0": "61700",
                                    "1": "839",
                                    "2": "0",
                                    "3": "3",
                                    "4": "2016-01-07 15:10:00.0000000"
                                },
                                {
                                    "0": "61699",
                                    "1": "472",
                                    "2": "0",
                                    "3": "3",
                                    "4": "2016-01-07 15:05:00.0000000"
                                },
                                {
                                    "0": "61698",
                                    "1": "199",
                                    "2": "0",
                                    "3": "3",
                                    "4": "2016-01-07 15:00:00.0000000"
                                },
                                {
                                    "0": "61697",
                                    "1": "128",
                                    "2": "0",
                                    "3": "2",
                                    "4": "2016-01-07 14:55:00.0000000"
                                },
                                {
                                    "0": "61696",
                                    "1": "79",
                                    "2": "1",
                                    "3": "3",
                                    "4": "2016-01-07 14:50:00.0000000"
                                },
                                {
                                    "0": "61695",
                                    "1": "507",
                                    "2": "0",
                                    "3": "3",
                                    "4": "2016-01-07 14:45:00.0000000"
                                },
                                {
                                    "0": "61694",
                                    "1": "449",
                                    "2": "1",
                                    "3": "3",
                                    "4": "2016-01-07 14:40:00.0000000"
                                },
                                {
                                    "0": "61693",
                                    "1": "947",
                                    "2": "0",
                                    "3": "2",
                                    "4": "2016-01-07 14:35:00.0000000"
                                },
                                {
                                    "0": "61692",
                                    "1": "31",
                                    "2": "0",
                                    "3": "3",
                                    "4": "2016-01-07 14:30:00.0000000"
                                },
                                {
                                    "0": "61691",
                                    "1": "78",
                                    "2": "0",
                                    "3": "2",
                                    "4": "2016-01-07 14:25:00.0000000"
                                },
                                {
                                    "0": "61690",
                                    "1": "83",
                                    "2": "0",
                                    "3": "5",
                                    "4": "2016-01-07 14:20:00.0000000"
                                },
                                {
                                    "0": "61689",
                                    "1": "808",
                                    "2": "0",
                                    "3": "4",
                                    "4": "2016-01-07 14:15:00.0000000"
                                },
                                {
                                    "0": "61688",
                                    "1": "163",
                                    "2": "0",
                                    "3": "1",
                                    "4": "2016-01-07 14:10:00.0000000"
                                },
                                {
                                    "0": "61687",
                                    "1": "144",
                                    "2": "0",
                                    "3": "5",
                                    "4": "2016-01-07 14:05:00.0000000"
                                },
                                {
                                    "0": "61686",
                                    "1": "594",
                                    "2": "0",
                                    "3": "1",
                                    "4": "2016-01-07 14:00:00.0000000"
                                },
                                {
                                    "0": "61685",
                                    "1": "810",
                                    "2": "0",
                                    "3": "2",
                                    "4": "2016-01-07 13:55:00.0000000"
                                },
                                {
                                    "0": "61684",
                                    "1": "113",
                                    "2": "0",
                                    "3": "4",
                                    "4": "2016-01-07 13:50:00.0000000"
                                },
                                {
                                    "0": "61683",
                                    "1": "899",
                                    "2": "0",
                                    "3": "3",
                                    "4": "2016-01-07 13:45:00.0000000"
                                },
                                {
                                    "0": "61682",
                                    "1": "1011",
                                    "2": "0",
                                    "3": "4",
                                    "4": "2016-01-07 13:40:00.0000000"
                                },
                                {
                                    "0": "61681",
                                    "1": "51",
                                    "2": "0",
                                    "3": "1",
                                    "4": "2016-01-07 13:35:00.0000000"
                                },
                                {
                                    "0": "61680",
                                    "1": "856",
                                    "2": "0",
                                    "3": "3",
                                    "4": "2016-01-07 13:30:00.0000000"
                                },
                                {
                                    "0": "61679",
                                    "1": "919",
                                    "2": "0",
                                    "3": "2",
                                    "4": "2016-01-07 13:25:00.0000000"
                                },
                                {
                                    "0": "61678",
                                    "1": "921",
                                    "2": "0",
                                    "3": "4",
                                    "4": "2016-01-07 13:20:00.0000000"
                                },
                                {
                                    "0": "61677",
                                    "1": "45",
                                    "2": "0",
                                    "3": "3",
                                    "4": "2016-01-07 13:15:00.0000000"
                                },
                                {
                                    "0": "61676",
                                    "1": "578",
                                    "2": "0",
                                    "3": "4",
                                    "4": "2016-01-07 13:10:00.0000000"
                                },
                                {
                                    "0": "61675",
                                    "1": "1003",
                                    "2": "0",
                                    "3": "4",
                                    "4": "2016-01-07 13:05:00.0000000"
                                },
                                {
                                    "0": "61674",
                                    "1": "478",
                                    "2": "0",
                                    "3": "5",
                                    "4": "2016-01-07 13:00:00.0000000"
                                },
                                {
                                    "0": "61673",
                                    "1": "955",
                                    "2": "0",
                                    "3": "3",
                                    "4": "2016-01-07 12:55:00.0000000"
                                },
                                {
                                    "0": "61672",
                                    "1": "998",
                                    "2": "0",
                                    "3": "3",
                                    "4": "2016-01-07 12:50:00.0000000"
                                },
                                {
                                    "0": "61671",
                                    "1": "26",
                                    "2": "0",
                                    "3": "4",
                                    "4": "2016-01-07 12:45:00.0000000"
                                },
                                {
                                    "0": "61670",
                                    "1": "531",
                                    "2": "0",
                                    "3": "5",
                                    "4": "2016-01-07 12:40:00.0000000"
                                },
                                {
                                    "0": "61669",
                                    "1": "539",
                                    "2": "0",
                                    "3": "4",
                                    "4": "2016-01-07 12:35:00.0000000"
                                },
                                {
                                    "0": "61668",
                                    "1": "190",
                                    "2": "0",
                                    "3": "4",
                                    "4": "2016-01-07 12:30:00.0000000"
                                },
                                {
                                    "0": "61667",
                                    "1": "1019",
                                    "2": "0",
                                    "3": "3",
                                    "4": "2016-01-07 12:25:00.0000000"
                                },
                                {
                                    "0": "61666",
                                    "1": "1044",
                                    "2": "0",
                                    "3": "2",
                                    "4": "2016-01-07 12:20:00.0000000"
                                },
                                {
                                    "0": "61665",
                                    "1": "877",
                                    "2": "0",
                                    "3": "5",
                                    "4": "2016-01-07 12:15:00.0000000"
                                },
                                {
                                    "0": "61664",
                                    "1": "980",
                                    "2": "0",
                                    "3": "3",
                                    "4": "2016-01-07 12:10:00.0000000"
                                },
                                {
                                    "0": "61663",
                                    "1": "5",
                                    "2": "1",
                                    "3": "2",
                                    "4": "2016-01-07 12:05:00.0000000"
                                },
                                {
                                    "0": "61662",
                                    "1": "1023",
                                    "2": "0",
                                    "3": "3",
                                    "4": "2016-01-07 12:00:00.0000000"
                                },
                                {
                                    "0": "61661",
                                    "1": "925",
                                    "2": "0",
                                    "3": "3",
                                    "4": "2016-01-07 11:55:00.0000000"
                                },
                                {
                                    "0": "61660",
                                    "1": "812",
                                    "2": "0",
                                    "3": "2",
                                    "4": "2016-01-07 11:50:00.0000000"
                                },
                                {
                                    "0": "61659",
                                    "1": "823",
                                    "2": "0",
                                    "3": "5",
                                    "4": "2016-01-07 11:45:00.0000000"
                                },
                                {
                                    "0": "61658",
                                    "1": "31",
                                    "2": "1",
                                    "3": "3",
                                    "4": "2016-01-07 11:40:00.0000000"
                                },
                                {
                                    "0": "61657",
                                    "1": "190",
                                    "2": "0",
                                    "3": "3",
                                    "4": "2016-01-07 11:35:00.0000000"
                                },
                                {
                                    "0": "61656",
                                    "1": "964",
                                    "2": "0",
                                    "3": "3",
                                    "4": "2016-01-07 11:30:00.0000000"
                                },
                                {
                                    "0": "61655",
                                    "1": "520",
                                    "2": "0",
                                    "3": "3",
                                    "4": "2016-01-07 11:25:00.0000000"
                                },
                                {
                                    "0": "61654",
                                    "1": "555",
                                    "2": "0",
                                    "3": "4",
                                    "4": "2016-01-07 11:20:00.0000000"
                                },
                                {
                                    "0": "61653",
                                    "1": "860",
                                    "2": "0",
                                    "3": "4",
                                    "4": "2016-01-07 11:15:00.0000000"
                                },
                                {
                                    "0": "61652",
                                    "1": "96",
                                    "2": "2",
                                    "3": "3",
                                    "4": "2016-01-07 11:10:00.0000000"
                                },
                                {
                                    "0": "61651",
                                    "1": "456",
                                    "2": "0",
                                    "3": "5",
                                    "4": "2016-01-07 11:05:00.0000000"
                                },
                                {
                                    "0": "61650",
                                    "1": "131",
                                    "2": "0",
                                    "3": "3",
                                    "4": "2016-01-07 11:00:00.0000000"
                                },
                                {
                                    "0": "61649",
                                    "1": "839",
                                    "2": "0",
                                    "3": "4",
                                    "4": "2016-01-07 10:55:00.0000000"
                                },
                                {
                                    "0": "61648",
                                    "1": "933",
                                    "2": "0",
                                    "3": "4",
                                    "4": "2016-01-07 10:50:00.0000000"
                                },
                                {
                                    "0": "61647",
                                    "1": "451",
                                    "2": "0",
                                    "3": "5",
                                    "4": "2016-01-07 10:45:00.0000000"
                                },
                                {
                                    "0": "61646",
                                    "1": "932",
                                    "2": "0",
                                    "3": "4",
                                    "4": "2016-01-07 10:40:00.0000000"
                                },
                                {
                                    "0": "61645",
                                    "1": "595",
                                    "2": "0",
                                    "3": "4",
                                    "4": "2016-01-07 10:35:00.0000000"
                                },
                                {
                                    "0": "61644",
                                    "1": "962",
                                    "2": "0",
                                    "3": "2",
                                    "4": "2016-01-07 10:30:00.0000000"
                                },
                                {
                                    "0": "61643",
                                    "1": "64",
                                    "2": "0",
                                    "3": "2",
                                    "4": "2016-01-07 10:25:00.0000000"
                                },
                                {
                                    "0": "61642",
                                    "1": "936",
                                    "2": "0",
                                    "3": "4",
                                    "4": "2016-01-07 10:20:00.0000000"
                                },
                                {
                                    "0": "61641",
                                    "1": "600",
                                    "2": "0",
                                    "3": "1",
                                    "4": "2016-01-07 10:15:00.0000000"
                                },
                                {
                                    "0": "61640",
                                    "1": "880",
                                    "2": "0",
                                    "3": "4",
                                    "4": "2016-01-07 10:10:00.0000000"
                                },
                                {
                                    "0": "61639",
                                    "1": "403",
                                    "2": "0",
                                    "3": "5",
                                    "4": "2016-01-07 10:05:00.0000000"
                                },
                                {
                                    "0": "61638",
                                    "1": "38",
                                    "2": "0",
                                    "3": "2",
                                    "4": "2016-01-07 10:00:00.0000000"
                                },
                                {
                                    "0": "61637",
                                    "1": "403",
                                    "2": "0",
                                    "3": "1",
                                    "4": "2016-01-07 09:55:00.0000000"
                                },
                                {
                                    "0": "61636",
                                    "1": "471",
                                    "2": "0",
                                    "3": "4",
                                    "4": "2016-01-07 09:50:00.0000000"
                                },
                                {
                                    "0": "61635",
                                    "1": "401",
                                    "2": "0",
                                    "3": "2",
                                    "4": "2016-01-07 09:45:00.0000000"
                                },
                                {
                                    "0": "61634",
                                    "1": "56",
                                    "2": "0",
                                    "3": "3",
                                    "4": "2016-01-07 09:40:00.0000000"
                                },
                                {
                                    "0": "61633",
                                    "1": "569",
                                    "2": "0",
                                    "3": "4",
                                    "4": "2016-01-07 09:35:00.0000000"
                                },
                                {
                                    "0": "61632",
                                    "1": "934",
                                    "2": "1",
                                    "3": "1",
                                    "4": "2016-01-07 09:30:00.0000000"
                                },
                                {
                                    "0": "61631",
                                    "1": "840",
                                    "2": "0",
                                    "3": "5",
                                    "4": "2016-01-07 09:25:00.0000000"
                                },
                                {
                                    "0": "61630",
                                    "1": "532",
                                    "2": "0",
                                    "3": "5",
                                    "4": "2016-01-07 09:20:00.0000000"
                                },
                                {
                                    "0": "61629",
                                    "1": "837",
                                    "2": "0",
                                    "3": "4",
                                    "4": "2016-01-07 09:15:00.0000000"
                                },
                                {
                                    "0": "61628",
                                    "1": "571",
                                    "2": "0",
                                    "3": "5",
                                    "4": "2016-01-07 09:10:00.0000000"
                                },
                                {
                                    "0": "61627",
                                    "1": "958",
                                    "2": "0",
                                    "3": "5",
                                    "4": "2016-01-07 09:05:00.0000000"
                                },
                                {
                                    "0": "61626",
                                    "1": "1056",
                                    "2": "0",
                                    "3": "2",
                                    "4": "2016-01-07 09:00:00.0000000"
                                },
                                {
                                    "0": "61625",
                                    "1": "22",
                                    "2": "0",
                                    "3": "4",
                                    "4": "2016-01-07 08:55:00.0000000"
                                },
                                {
                                    "0": "61624",
                                    "1": "51",
                                    "2": "0",
                                    "3": "3",
                                    "4": "2016-01-07 08:50:00.0000000"
                                },
                                {
                                    "0": "61623",
                                    "1": "432",
                                    "2": "0",
                                    "3": "3",
                                    "4": "2016-01-07 08:45:00.0000000"
                                },
                                {
                                    "0": "61622",
                                    "1": "459",
                                    "2": "0",
                                    "3": "2",
                                    "4": "2016-01-07 08:40:00.0000000"
                                },
                                {
                                    "0": "61621",
                                    "1": "19",
                                    "2": "0",
                                    "3": "2",
                                    "4": "2016-01-07 08:35:00.0000000"
                                },
                                {
                                    "0": "61620",
                                    "1": "72",
                                    "2": "0",
                                    "3": "3",
                                    "4": "2016-01-07 08:30:00.0000000"
                                },
                                {
                                    "0": "61619",
                                    "1": "600",
                                    "2": "0",
                                    "3": "2",
                                    "4": "2016-01-07 08:25:00.0000000"
                                },
                                {
                                    "0": "61618",
                                    "1": "894",
                                    "2": "0",
                                    "3": "3",
                                    "4": "2016-01-07 08:20:00.0000000"
                                },
                                {
                                    "0": "61617",
                                    "1": "924",
                                    "2": "0",
                                    "3": "4",
                                    "4": "2016-01-07 08:15:00.0000000"
                                },
                                {
                                    "0": "61616",
                                    "1": "49",
                                    "2": "0",
                                    "3": "2",
                                    "4": "2016-01-07 08:10:00.0000000"
                                },
                                {
                                    "0": "61615",
                                    "1": "153",
                                    "2": "0",
                                    "3": "2",
                                    "4": "2016-01-07 08:05:00.0000000"
                                },
                                {
                                    "0": "61614",
                                    "1": "53",
                                    "2": "0",
                                    "3": "3",
                                    "4": "2016-01-07 08:00:00.0000000"
                                },
                                {
                                    "0": "61613",
                                    "1": "816",
                                    "2": "0",
                                    "3": "2",
                                    "4": "2016-01-07 07:55:00.0000000"
                                },
                                {
                                    "0": "61612",
                                    "1": "1000",
                                    "2": "1",
                                    "3": "2",
                                    "4": "2016-01-07 07:50:00.0000000"
                                },
                                {
                                    "0": "61611",
                                    "1": "951",
                                    "2": "0",
                                    "3": "2",
                                    "4": "2016-01-07 07:45:00.0000000"
                                },
                                {
                                    "0": "61610",
                                    "1": "859",
                                    "2": "0",
                                    "3": "2",
                                    "4": "2016-01-07 07:40:00.0000000"
                                },
                                {
                                    "0": "61609",
                                    "1": "141",
                                    "2": "0",
                                    "3": "1",
                                    "4": "2016-01-07 07:35:00.0000000"
                                },
                                {
                                    "0": "61608",
                                    "1": "967",
                                    "2": "0",
                                    "3": "1",
                                    "4": "2016-01-07 07:30:00.0000000"
                                },
                                {
                                    "0": "61607",
                                    "1": "1007",
                                    "2": "1",
                                    "3": "0",
                                    "4": "2016-01-07 07:25:00.0000000"
                                },
                                {
                                    "0": "61606",
                                    "1": "913",
                                    "2": "0",
                                    "3": "1",
                                    "4": "2016-01-07 07:20:00.0000000"
                                },
                                {
                                    "0": "61605",
                                    "1": "825",
                                    "2": "0",
                                    "3": "1",
                                    "4": "2016-01-07 07:15:00.0000000"
                                },
                                {
                                    "0": "61604",
                                    "1": "1031",
                                    "2": "0",
                                    "3": "1",
                                    "4": "2016-01-07 07:10:00.0000000"
                                },
                                {
                                    "0": "61603",
                                    "1": "36",
                                    "2": "0",
                                    "3": "1",
                                    "4": "2016-01-07 07:05:00.0000000"
                                }
                            ]
                        },
                        "text/html": [
                            "<table>",
                            "<tr><th>InvoiceId</th><th>CustomerId</th><th>TotalChillerItems</th><th>TotalDryItems</th><th>ConfirmedDeliveryTime</th></tr>",
                            "<tr><td>61719</td><td>122</td><td>0</td><td>3</td><td>2016-01-07 16:45:00.0000000</td></tr>",
                            "<tr><td>61718</td><td>199</td><td>0</td><td>3</td><td>2016-01-07 16:40:00.0000000</td></tr>",
                            "<tr><td>61717</td><td>104</td><td>0</td><td>4</td><td>2016-01-07 16:35:00.0000000</td></tr>",
                            "<tr><td>61716</td><td>115</td><td>0</td><td>3</td><td>2016-01-07 16:30:00.0000000</td></tr>",
                            "<tr><td>61715</td><td>991</td><td>0</td><td>2</td><td>2016-01-07 16:25:00.0000000</td></tr>",
                            "<tr><td>61714</td><td>10</td><td>0</td><td>3</td><td>2016-01-07 16:20:00.0000000</td></tr>",
                            "<tr><td>61713</td><td>985</td><td>0</td><td>4</td><td>2016-01-07 16:15:00.0000000</td></tr>",
                            "<tr><td>61712</td><td>878</td><td>0</td><td>3</td><td>2016-01-07 16:10:00.0000000</td></tr>",
                            "<tr><td>61711</td><td>100</td><td>0</td><td>3</td><td>2016-01-07 16:05:00.0000000</td></tr>",
                            "<tr><td>61710</td><td>63</td><td>0</td><td>5</td><td>2016-01-07 16:00:00.0000000</td></tr>",
                            "<tr><td>61709</td><td>504</td><td>0</td><td>2</td><td>2016-01-07 15:55:00.0000000</td></tr>",
                            "<tr><td>61708</td><td>1055</td><td>0</td><td>3</td><td>2016-01-07 15:50:00.0000000</td></tr>",
                            "<tr><td>61707</td><td>49</td><td>0</td><td>3</td><td>2016-01-07 15:45:00.0000000</td></tr>",
                            "<tr><td>61706</td><td>144</td><td>0</td><td>3</td><td>2016-01-07 15:40:00.0000000</td></tr>",
                            "<tr><td>61705</td><td>199</td><td>0</td><td>3</td><td>2016-01-07 15:35:00.0000000</td></tr>",
                            "<tr><td>61704</td><td>831</td><td>1</td><td>4</td><td>2016-01-07 15:30:00.0000000</td></tr>",
                            "<tr><td>61703</td><td>134</td><td>0</td><td>4</td><td>2016-01-07 15:25:00.0000000</td></tr>",
                            "<tr><td>61702</td><td>921</td><td>0</td><td>2</td><td>2016-01-07 15:20:00.0000000</td></tr>",
                            "<tr><td>61701</td><td>433</td><td>0</td><td>4</td><td>2016-01-07 15:15:00.0000000</td></tr>",
                            "<tr><td>61700</td><td>839</td><td>0</td><td>3</td><td>2016-01-07 15:10:00.0000000</td></tr>",
                            "<tr><td>61699</td><td>472</td><td>0</td><td>3</td><td>2016-01-07 15:05:00.0000000</td></tr>",
                            "<tr><td>61698</td><td>199</td><td>0</td><td>3</td><td>2016-01-07 15:00:00.0000000</td></tr>",
                            "<tr><td>61697</td><td>128</td><td>0</td><td>2</td><td>2016-01-07 14:55:00.0000000</td></tr>",
                            "<tr><td>61696</td><td>79</td><td>1</td><td>3</td><td>2016-01-07 14:50:00.0000000</td></tr>",
                            "<tr><td>61695</td><td>507</td><td>0</td><td>3</td><td>2016-01-07 14:45:00.0000000</td></tr>",
                            "<tr><td>61694</td><td>449</td><td>1</td><td>3</td><td>2016-01-07 14:40:00.0000000</td></tr>",
                            "<tr><td>61693</td><td>947</td><td>0</td><td>2</td><td>2016-01-07 14:35:00.0000000</td></tr>",
                            "<tr><td>61692</td><td>31</td><td>0</td><td>3</td><td>2016-01-07 14:30:00.0000000</td></tr>",
                            "<tr><td>61691</td><td>78</td><td>0</td><td>2</td><td>2016-01-07 14:25:00.0000000</td></tr>",
                            "<tr><td>61690</td><td>83</td><td>0</td><td>5</td><td>2016-01-07 14:20:00.0000000</td></tr>",
                            "<tr><td>61689</td><td>808</td><td>0</td><td>4</td><td>2016-01-07 14:15:00.0000000</td></tr>",
                            "<tr><td>61688</td><td>163</td><td>0</td><td>1</td><td>2016-01-07 14:10:00.0000000</td></tr>",
                            "<tr><td>61687</td><td>144</td><td>0</td><td>5</td><td>2016-01-07 14:05:00.0000000</td></tr>",
                            "<tr><td>61686</td><td>594</td><td>0</td><td>1</td><td>2016-01-07 14:00:00.0000000</td></tr>",
                            "<tr><td>61685</td><td>810</td><td>0</td><td>2</td><td>2016-01-07 13:55:00.0000000</td></tr>",
                            "<tr><td>61684</td><td>113</td><td>0</td><td>4</td><td>2016-01-07 13:50:00.0000000</td></tr>",
                            "<tr><td>61683</td><td>899</td><td>0</td><td>3</td><td>2016-01-07 13:45:00.0000000</td></tr>",
                            "<tr><td>61682</td><td>1011</td><td>0</td><td>4</td><td>2016-01-07 13:40:00.0000000</td></tr>",
                            "<tr><td>61681</td><td>51</td><td>0</td><td>1</td><td>2016-01-07 13:35:00.0000000</td></tr>",
                            "<tr><td>61680</td><td>856</td><td>0</td><td>3</td><td>2016-01-07 13:30:00.0000000</td></tr>",
                            "<tr><td>61679</td><td>919</td><td>0</td><td>2</td><td>2016-01-07 13:25:00.0000000</td></tr>",
                            "<tr><td>61678</td><td>921</td><td>0</td><td>4</td><td>2016-01-07 13:20:00.0000000</td></tr>",
                            "<tr><td>61677</td><td>45</td><td>0</td><td>3</td><td>2016-01-07 13:15:00.0000000</td></tr>",
                            "<tr><td>61676</td><td>578</td><td>0</td><td>4</td><td>2016-01-07 13:10:00.0000000</td></tr>",
                            "<tr><td>61675</td><td>1003</td><td>0</td><td>4</td><td>2016-01-07 13:05:00.0000000</td></tr>",
                            "<tr><td>61674</td><td>478</td><td>0</td><td>5</td><td>2016-01-07 13:00:00.0000000</td></tr>",
                            "<tr><td>61673</td><td>955</td><td>0</td><td>3</td><td>2016-01-07 12:55:00.0000000</td></tr>",
                            "<tr><td>61672</td><td>998</td><td>0</td><td>3</td><td>2016-01-07 12:50:00.0000000</td></tr>",
                            "<tr><td>61671</td><td>26</td><td>0</td><td>4</td><td>2016-01-07 12:45:00.0000000</td></tr>",
                            "<tr><td>61670</td><td>531</td><td>0</td><td>5</td><td>2016-01-07 12:40:00.0000000</td></tr>",
                            "<tr><td>61669</td><td>539</td><td>0</td><td>4</td><td>2016-01-07 12:35:00.0000000</td></tr>",
                            "<tr><td>61668</td><td>190</td><td>0</td><td>4</td><td>2016-01-07 12:30:00.0000000</td></tr>",
                            "<tr><td>61667</td><td>1019</td><td>0</td><td>3</td><td>2016-01-07 12:25:00.0000000</td></tr>",
                            "<tr><td>61666</td><td>1044</td><td>0</td><td>2</td><td>2016-01-07 12:20:00.0000000</td></tr>",
                            "<tr><td>61665</td><td>877</td><td>0</td><td>5</td><td>2016-01-07 12:15:00.0000000</td></tr>",
                            "<tr><td>61664</td><td>980</td><td>0</td><td>3</td><td>2016-01-07 12:10:00.0000000</td></tr>",
                            "<tr><td>61663</td><td>5</td><td>1</td><td>2</td><td>2016-01-07 12:05:00.0000000</td></tr>",
                            "<tr><td>61662</td><td>1023</td><td>0</td><td>3</td><td>2016-01-07 12:00:00.0000000</td></tr>",
                            "<tr><td>61661</td><td>925</td><td>0</td><td>3</td><td>2016-01-07 11:55:00.0000000</td></tr>",
                            "<tr><td>61660</td><td>812</td><td>0</td><td>2</td><td>2016-01-07 11:50:00.0000000</td></tr>",
                            "<tr><td>61659</td><td>823</td><td>0</td><td>5</td><td>2016-01-07 11:45:00.0000000</td></tr>",
                            "<tr><td>61658</td><td>31</td><td>1</td><td>3</td><td>2016-01-07 11:40:00.0000000</td></tr>",
                            "<tr><td>61657</td><td>190</td><td>0</td><td>3</td><td>2016-01-07 11:35:00.0000000</td></tr>",
                            "<tr><td>61656</td><td>964</td><td>0</td><td>3</td><td>2016-01-07 11:30:00.0000000</td></tr>",
                            "<tr><td>61655</td><td>520</td><td>0</td><td>3</td><td>2016-01-07 11:25:00.0000000</td></tr>",
                            "<tr><td>61654</td><td>555</td><td>0</td><td>4</td><td>2016-01-07 11:20:00.0000000</td></tr>",
                            "<tr><td>61653</td><td>860</td><td>0</td><td>4</td><td>2016-01-07 11:15:00.0000000</td></tr>",
                            "<tr><td>61652</td><td>96</td><td>2</td><td>3</td><td>2016-01-07 11:10:00.0000000</td></tr>",
                            "<tr><td>61651</td><td>456</td><td>0</td><td>5</td><td>2016-01-07 11:05:00.0000000</td></tr>",
                            "<tr><td>61650</td><td>131</td><td>0</td><td>3</td><td>2016-01-07 11:00:00.0000000</td></tr>",
                            "<tr><td>61649</td><td>839</td><td>0</td><td>4</td><td>2016-01-07 10:55:00.0000000</td></tr>",
                            "<tr><td>61648</td><td>933</td><td>0</td><td>4</td><td>2016-01-07 10:50:00.0000000</td></tr>",
                            "<tr><td>61647</td><td>451</td><td>0</td><td>5</td><td>2016-01-07 10:45:00.0000000</td></tr>",
                            "<tr><td>61646</td><td>932</td><td>0</td><td>4</td><td>2016-01-07 10:40:00.0000000</td></tr>",
                            "<tr><td>61645</td><td>595</td><td>0</td><td>4</td><td>2016-01-07 10:35:00.0000000</td></tr>",
                            "<tr><td>61644</td><td>962</td><td>0</td><td>2</td><td>2016-01-07 10:30:00.0000000</td></tr>",
                            "<tr><td>61643</td><td>64</td><td>0</td><td>2</td><td>2016-01-07 10:25:00.0000000</td></tr>",
                            "<tr><td>61642</td><td>936</td><td>0</td><td>4</td><td>2016-01-07 10:20:00.0000000</td></tr>",
                            "<tr><td>61641</td><td>600</td><td>0</td><td>1</td><td>2016-01-07 10:15:00.0000000</td></tr>",
                            "<tr><td>61640</td><td>880</td><td>0</td><td>4</td><td>2016-01-07 10:10:00.0000000</td></tr>",
                            "<tr><td>61639</td><td>403</td><td>0</td><td>5</td><td>2016-01-07 10:05:00.0000000</td></tr>",
                            "<tr><td>61638</td><td>38</td><td>0</td><td>2</td><td>2016-01-07 10:00:00.0000000</td></tr>",
                            "<tr><td>61637</td><td>403</td><td>0</td><td>1</td><td>2016-01-07 09:55:00.0000000</td></tr>",
                            "<tr><td>61636</td><td>471</td><td>0</td><td>4</td><td>2016-01-07 09:50:00.0000000</td></tr>",
                            "<tr><td>61635</td><td>401</td><td>0</td><td>2</td><td>2016-01-07 09:45:00.0000000</td></tr>",
                            "<tr><td>61634</td><td>56</td><td>0</td><td>3</td><td>2016-01-07 09:40:00.0000000</td></tr>",
                            "<tr><td>61633</td><td>569</td><td>0</td><td>4</td><td>2016-01-07 09:35:00.0000000</td></tr>",
                            "<tr><td>61632</td><td>934</td><td>1</td><td>1</td><td>2016-01-07 09:30:00.0000000</td></tr>",
                            "<tr><td>61631</td><td>840</td><td>0</td><td>5</td><td>2016-01-07 09:25:00.0000000</td></tr>",
                            "<tr><td>61630</td><td>532</td><td>0</td><td>5</td><td>2016-01-07 09:20:00.0000000</td></tr>",
                            "<tr><td>61629</td><td>837</td><td>0</td><td>4</td><td>2016-01-07 09:15:00.0000000</td></tr>",
                            "<tr><td>61628</td><td>571</td><td>0</td><td>5</td><td>2016-01-07 09:10:00.0000000</td></tr>",
                            "<tr><td>61627</td><td>958</td><td>0</td><td>5</td><td>2016-01-07 09:05:00.0000000</td></tr>",
                            "<tr><td>61626</td><td>1056</td><td>0</td><td>2</td><td>2016-01-07 09:00:00.0000000</td></tr>",
                            "<tr><td>61625</td><td>22</td><td>0</td><td>4</td><td>2016-01-07 08:55:00.0000000</td></tr>",
                            "<tr><td>61624</td><td>51</td><td>0</td><td>3</td><td>2016-01-07 08:50:00.0000000</td></tr>",
                            "<tr><td>61623</td><td>432</td><td>0</td><td>3</td><td>2016-01-07 08:45:00.0000000</td></tr>",
                            "<tr><td>61622</td><td>459</td><td>0</td><td>2</td><td>2016-01-07 08:40:00.0000000</td></tr>",
                            "<tr><td>61621</td><td>19</td><td>0</td><td>2</td><td>2016-01-07 08:35:00.0000000</td></tr>",
                            "<tr><td>61620</td><td>72</td><td>0</td><td>3</td><td>2016-01-07 08:30:00.0000000</td></tr>",
                            "<tr><td>61619</td><td>600</td><td>0</td><td>2</td><td>2016-01-07 08:25:00.0000000</td></tr>",
                            "<tr><td>61618</td><td>894</td><td>0</td><td>3</td><td>2016-01-07 08:20:00.0000000</td></tr>",
                            "<tr><td>61617</td><td>924</td><td>0</td><td>4</td><td>2016-01-07 08:15:00.0000000</td></tr>",
                            "<tr><td>61616</td><td>49</td><td>0</td><td>2</td><td>2016-01-07 08:10:00.0000000</td></tr>",
                            "<tr><td>61615</td><td>153</td><td>0</td><td>2</td><td>2016-01-07 08:05:00.0000000</td></tr>",
                            "<tr><td>61614</td><td>53</td><td>0</td><td>3</td><td>2016-01-07 08:00:00.0000000</td></tr>",
                            "<tr><td>61613</td><td>816</td><td>0</td><td>2</td><td>2016-01-07 07:55:00.0000000</td></tr>",
                            "<tr><td>61612</td><td>1000</td><td>1</td><td>2</td><td>2016-01-07 07:50:00.0000000</td></tr>",
                            "<tr><td>61611</td><td>951</td><td>0</td><td>2</td><td>2016-01-07 07:45:00.0000000</td></tr>",
                            "<tr><td>61610</td><td>859</td><td>0</td><td>2</td><td>2016-01-07 07:40:00.0000000</td></tr>",
                            "<tr><td>61609</td><td>141</td><td>0</td><td>1</td><td>2016-01-07 07:35:00.0000000</td></tr>",
                            "<tr><td>61608</td><td>967</td><td>0</td><td>1</td><td>2016-01-07 07:30:00.0000000</td></tr>",
                            "<tr><td>61607</td><td>1007</td><td>1</td><td>0</td><td>2016-01-07 07:25:00.0000000</td></tr>",
                            "<tr><td>61606</td><td>913</td><td>0</td><td>1</td><td>2016-01-07 07:20:00.0000000</td></tr>",
                            "<tr><td>61605</td><td>825</td><td>0</td><td>1</td><td>2016-01-07 07:15:00.0000000</td></tr>",
                            "<tr><td>61604</td><td>1031</td><td>0</td><td>1</td><td>2016-01-07 07:10:00.0000000</td></tr>",
                            "<tr><td>61603</td><td>36</td><td>0</td><td>1</td><td>2016-01-07 07:05:00.0000000</td></tr>",
                            "</table>"
                        ]
                    }
                }
            ],
            "execution_count": 10
        },
        {
            "cell_type": "markdown",
            "source": [
                "placeholder"
            ],
            "metadata": {
                "azdata_cell_guid": "92a739be-0d1b-479b-8f5b-c5c95780a290"
            }
        }
    ]
}